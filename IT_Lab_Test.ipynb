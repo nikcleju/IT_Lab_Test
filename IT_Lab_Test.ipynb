{
 "cells": [
  {
   "cell_type": "markdown",
   "metadata": {},
   "source": [
    "# Information Theory Lab 08: Error Detection With Parity Bits - Encoding\n",
    "\n",
    "## About\n",
    "\n",
    "This file is designed to be viewed and run online in a browser.\n",
    "\n",
    "This file is a Jupyter Notebook file usign `xeus-cling`, a Jupyter kernel for C++ based on the `cling` C++ interpreter and the `xeus` native implementation of the Jupyter protocol, xeus.\n",
    "\n",
    "- GitHub repository: https://github.com/jupyter-xeus/xeus-cling/\n",
    "- Online documentation: https://xeus-cling.readthedocs.io/ \n",
    "\n",
    "<!-- <img src=\"images/xeus-cling.png\" alt=\"xeus-cling logo\" style=\"width: 100px;\"/> -->"
   ]
  },
  {
   "cell_type": "markdown",
   "metadata": {},
   "source": [
    "## Usage\n",
    "\n",
    "To run a selected code cell:\n",
    "\n",
    "- Ctrl  + Enter = Run cell and remain at current cell\n",
    "- Shift + Enter = Run cell and advance to next cell\n",
    "\n",
    "<!--\n",
    "<div style=\"background: #efffed;\n",
    "            border: 1px solid grey;\n",
    "            margin: 8px 0 8px 0;\n",
    "            text-align: center;\n",
    "            padding: 8px; \">\n",
    "    <i class=\"fa-play fa\" \n",
    "       style=\"font-size: 40px;\n",
    "              line-height: 40px;\n",
    "              margin: 8px;\n",
    "              color: #444;\">\n",
    "    </i>\n",
    "    <div>\n",
    "    To run the selected code cell, hit <pre style=\"background: #efffed\">Shift + Enter</pre>\n",
    "    </div>\n",
    "</div>\n",
    "-->"
   ]
  },
  {
   "cell_type": "markdown",
   "metadata": {},
   "source": [
    "## Objective\n",
    "\n",
    "Understand the use of parity bits for error detection, \n",
    "in particular the detection of 1 error based on 1 parity bit."
   ]
  },
  {
   "cell_type": "markdown",
   "metadata": {},
   "source": [
    "## What is a parity bit?\n",
    "\n",
    "Given a set of N bits $b_1$, ... $b_N$, a parity bit $p$\n",
    "is defined as the **modulo-2 sum** of their values:\n",
    "$$p = b_1 \\oplus b_2 \\oplus ... \\oplus b_N$$\n",
    "\n",
    "The parity bit can be used for detection of a single error:\n",
    "\n",
    "- when transmitting a group of bits, compute and send their parity\n",
    "bit as well\n",
    "- when receiving a group of bits and their parity bit, compute the \n",
    "parity bit of the first bits again and compare with the parity bit \n",
    "received:\n",
    "    a. If they are the same, decide that no error has happened;\n",
    "    b. If they differ, an error has been detected.\n",
    "\n",
    "This scheme represents an 1-error detection code.\n",
    "\n",
    "In the C language, modulo-2 sum is can be done in two ways:\n",
    "  - by the bitwise `XOR` operation (`^`).\n",
    "  - by summing the bits as normal numbers, and then taking modulo 2:\n",
    "  \n",
    "  $$p = (b_1 + b_2 + \\dots + b_N) \\% 2$$\n",
    "\n",
    "In our case the second way is easier to implement."
   ]
  },
  {
   "cell_type": "markdown",
   "metadata": {},
   "source": [
    "## Encoding data with parity bits\n",
    "\n",
    "In this lab we will implement an application which does the following:\n",
    "\n",
    " - reads an input file\n",
    " - computes the parity for every group of 8 bits in the file\n",
    " - writes the data back to an output file, with the parity bit appended after every 8 bits of the input file"
   ]
  },
  {
   "cell_type": "markdown",
   "metadata": {},
   "source": [
    "### Preparations\n",
    "\n",
    "First let's define in one place all the macros needed for working with bits."
   ]
  },
  {
   "cell_type": "code",
   "execution_count": 1,
   "metadata": {},
   "outputs": [],
   "source": [
    "#define READ_BIT(x,i)       (int)(((x) & (1U << (i))) != 0)                                 /* read bit i from x */\n",
    "#define SET_BIT(x,i)        ((x) = (x) | (1U << (i)))                                       /* set bit i from x to 1 */\n",
    "#define CLEAR_BIT(x,i)      ((x) = (x) & ~(1U << (i)))                                      /* clear bit i from x to 0 */\n",
    "#define WRITE_BIT(x,i,val)  ((val) ? SET_BIT((x),(i)) : CLEAR_BIT((x),(i)))                 /* write 'val' in bit i from x */\n",
    "#define TOGGLE_BIT(x,i)     ((x) = (x) ^ (1U << (i)))                                       /* toggle bit i from x */\n",
    "#define VECREAD_BIT(v,i)       (READ_BIT((v[(i)/8]),(i)%8))                                 /* read bit i from byte vector v */\n",
    "#define VECWRITE_BIT(v,i,val)  (WRITE_BIT((v[(i)/8]),((i)%8),val))                          /* write 'val' in bit i from byte vector v */"
   ]
  },
  {
   "cell_type": "markdown",
   "metadata": {},
   "source": [
    "### Step 1: Open a file and read everything into a vector\n",
    "\n",
    "Let's open a file called ``textro.txt`` and read all the data into a vector `input`, using `fread()`. \n",
    "\n",
    "We do not know beforehand how large is the input file, so we try to read a full 100KB of bytes from the file. The function `fread()` reads as mush as it can, until the end of the file. `fread()` **returns an output value indicating how many elements it actually read**, so that we know how many elements from the the vector `input` to process."
   ]
  },
  {
   "cell_type": "code",
   "execution_count": 2,
   "metadata": {},
   "outputs": [
    {
     "data": {
      "text/plain": [
       "12127"
      ]
     },
     "execution_count": 2,
     "metadata": {},
     "output_type": "execute_result"
    }
   ],
   "source": [
    "unsigned char input[100000];  // allocate a vector with enough space for 100KB of data\n",
    "int nbytes;                    // will store the number of bytes actually read from the file by fread()\n",
    "\n",
    "// TODO: write here\n",
    "\n",
    "\n",
    "// Check how many elements were actually read\n",
    "nbytes"
   ]
  },
  {
   "cell_type": "markdown",
   "metadata": {},
   "source": [
    "### Step 2: Compute parity bits"
   ]
  },
  {
   "cell_type": "markdown",
   "metadata": {},
   "source": [
    "First, let's compute the parity bit for the first 8 bits from the input vector `input`. Use `VECREAD_BIT()` to read bits, add them all, and then take modulo 2."
   ]
  },
  {
   "cell_type": "code",
   "execution_count": 3,
   "metadata": {},
   "outputs": [
    {
     "data": {
      "text/plain": [
       "1"
      ]
     },
     "execution_count": 3,
     "metadata": {},
     "output_type": "execute_result"
    }
   ],
   "source": [
    "// TODO: write here\n",
    "\n",
    "\n",
    "// Display the parity bit p\n",
    "p"
   ]
  },
  {
   "cell_type": "markdown",
   "metadata": {},
   "source": [
    "Now, let's do them repeatedly, for every group of 8 bits. Store both the original 8 bits and the parity `p` in an output vector `output`.\n",
    "\n",
    "1. Start at position 0 in `input`\n",
    "2. For the next 8 bits:\n",
    "   - copy the 8 bits to on output vector `output`\n",
    "   - compute the parity bit and append it as the 9th bit in the output vector\n",
    "   - advance and repeat"
   ]
  },
  {
   "cell_type": "code",
   "execution_count": 5,
   "metadata": {},
   "outputs": [],
   "source": [
    "unsigned char output[200000];  // allocate a vector with enough space for 200KB of data\n",
    "\n",
    "// TODO: write here\n"
   ]
  },
  {
   "cell_type": "markdown",
   "metadata": {},
   "source": [
    "### Step 3: Write output vector into an output file\n",
    "\n",
    "We have all the output data in the `output` vector. Let's open an output file and save the data using `fwrite()`.\n",
    "\n",
    "The total number of bits is $\\frac{9}{8} \\;\\; \\times$ the number of bytes in `input`, because for every 8 bits in the input we have 9 bits in the output."
   ]
  },
  {
   "cell_type": "code",
   "execution_count": 6,
   "metadata": {},
   "outputs": [],
   "source": [
    "// TODO: write here\n"
   ]
  },
  {
   "cell_type": "markdown",
   "metadata": {},
   "source": [
    "## 3. Final Exercises\n",
    "\n",
    "\n",
    "1. Write a C program that computes and appends the parity bit for every byte in a data file.\n",
    "\n",
    "    The program shall be called as follows:\n",
    "\n",
    "    `parity.exe input.dat output.dat`\n",
    "    \n",
    "    * The arguments are:\n",
    "        * `input.dat`: the input file\n",
    "        * `output.dat`: the output file \n",
    "        produced by the program (12.5% larger than the input) \n",
    "    \n",
    "    * The program should consist of the following steps:\n",
    "        * declare two large vectors of `unsigned char`, for input\n",
    "        and output bits\n",
    "        * open the input file and read everything into the input vector\n",
    "        * for every group of 8 bits from the input vector:\n",
    "            * copy them to the output vector\n",
    "            * compute the parity bit\n",
    "            * append it to the output vector\n",
    "        * write the output vector to the output data file\n",
    "\n",
    "\n",
    "2. Run the program to produce the output file, for some input\n",
    "file. Use the `Frhed` program supplied to introduce 1 error into\n",
    "some locations in the output file (just 1 error every 9 bits).\n"
   ]
  },
  {
   "cell_type": "markdown",
   "metadata": {},
   "source": [
    "## 4. Final questions\n",
    "\n",
    "1. TBD"
   ]
  }
 ],
 "metadata": {
  "kernelspec": {
   "display_name": "C++14",
   "language": "C++14",
   "name": "xcpp14"
  },
  "language_info": {
   "codemirror_mode": "text/x-c++src",
   "file_extension": ".cpp",
   "mimetype": "text/x-c++src",
   "name": "c++",
   "version": "14"
  }
 },
 "nbformat": 4,
 "nbformat_minor": 4
}
